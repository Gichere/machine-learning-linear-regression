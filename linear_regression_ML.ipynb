{
  "nbformat": 4,
  "nbformat_minor": 0,
  "metadata": {
    "kernelspec": {
      "display_name": "Python 3",
      "language": "python",
      "name": "python3"
    },
    "language_info": {
      "codemirror_mode": {
        "name": "ipython",
        "version": 3
      },
      "file_extension": ".py",
      "mimetype": "text/x-python",
      "name": "python",
      "nbconvert_exporter": "python",
      "pygments_lexer": "ipython3",
      "version": "3.7.6"
    },
    "colab": {
      "name": "linear regression ML.ipynb",
      "provenance": [],
      "include_colab_link": true
    }
  },
  "cells": [
    {
      "cell_type": "markdown",
      "metadata": {
        "id": "view-in-github",
        "colab_type": "text"
      },
      "source": [
        "<a href=\"https://colab.research.google.com/github/Gichere/machine-learning-linear-regression/blob/main/linear_regression_ML.ipynb\" target=\"_parent\"><img src=\"https://colab.research.google.com/assets/colab-badge.svg\" alt=\"Open In Colab\"/></a>"
      ]
    },
    {
      "cell_type": "markdown",
      "metadata": {
        "id": "BmGDa52_AFkd"
      },
      "source": [
        "#A Machine Learning Algorithm to predict the amount that a customer is likely to spend on Black Friday\n",
        " The primary objective of this project is to create a simple machine learning algorithm \n",
        "that predicts the amount of money that a person is likely to spend on Black Friday\n",
        "depending on features such as gender, age, and occupation"
      ]
    },
    {
      "cell_type": "markdown",
      "metadata": {
        "id": "ju4UY52XAeBZ"
      },
      "source": [
        "## Questions to answer\n",
        "1. What gender shops more on Black Friday? \n",
        "2. Do the occupations of the people have any impact on sales? \n",
        "3. Which age group is the highest spender?\n",
        "4. Is it true that female customers are highly dominant in comparison to male customers? "
      ]
    },
    {
      "cell_type": "markdown",
      "metadata": {
        "id": "HOQn-oxJA9ml"
      },
      "source": [
        "## Loading the required libraries"
      ]
    },
    {
      "cell_type": "code",
      "metadata": {
        "id": "NawFEWVJ_0n4"
      },
      "source": [
        "import pandas as pd\n",
        "import numpy as np\n",
        "import matplotlib as pyplot\n",
        "%matplotlib inline\n",
        "import seaborn as sns\n",
        "import matplotlib.pyplot as plt; plt.rcdefaults()\n",
        "import matplotlib.pyplot as plt\n",
        "from sklearn.model_selection import train_test_split\n",
        "from sklearn.linear_model import LinearRegression\n",
        "from sklearn import metrics"
      ],
      "execution_count": 1,
      "outputs": []
    },
    {
      "cell_type": "markdown",
      "metadata": {
        "id": "uiWJbkjoBCZS"
      },
      "source": [
        "##Importing the dataset"
      ]
    },
    {
      "cell_type": "code",
      "metadata": {
        "id": "5NGGv9Pa_0n4"
      },
      "source": [
        "# Importing the black fiday dataset\n",
        "data = pd.read_csv('https://raw.githubusercontent.com/mathubhalan/Black-Friday-Sales/master/Data/BlackFriday.csv')"
      ],
      "execution_count": 2,
      "outputs": []
    },
    {
      "cell_type": "code",
      "metadata": {
        "colab": {
          "base_uri": "https://localhost:8080/"
        },
        "id": "J6_GdYz__0n4",
        "outputId": "e4f2f4c5-3c92-4660-ddf8-adfd7676ee67"
      },
      "source": [
        "# Getting some basic information on the data\n",
        "data.info()"
      ],
      "execution_count": 3,
      "outputs": [
        {
          "output_type": "stream",
          "text": [
            "<class 'pandas.core.frame.DataFrame'>\n",
            "RangeIndex: 537577 entries, 0 to 537576\n",
            "Data columns (total 12 columns):\n",
            " #   Column                      Non-Null Count   Dtype  \n",
            "---  ------                      --------------   -----  \n",
            " 0   User_ID                     537577 non-null  int64  \n",
            " 1   Product_ID                  537577 non-null  object \n",
            " 2   Gender                      537577 non-null  object \n",
            " 3   Age                         537577 non-null  object \n",
            " 4   Occupation                  537577 non-null  int64  \n",
            " 5   City_Category               537577 non-null  object \n",
            " 6   Stay_In_Current_City_Years  537577 non-null  object \n",
            " 7   Marital_Status              537577 non-null  int64  \n",
            " 8   Product_Category_1          537577 non-null  int64  \n",
            " 9   Product_Category_2          370591 non-null  float64\n",
            " 10  Product_Category_3          164278 non-null  float64\n",
            " 11  Purchase                    537577 non-null  int64  \n",
            "dtypes: float64(2), int64(5), object(5)\n",
            "memory usage: 49.2+ MB\n"
          ],
          "name": "stdout"
        }
      ]
    },
    {
      "cell_type": "markdown",
      "metadata": {
        "id": "FStGyIauBO-f"
      },
      "source": [
        "Looking at the data, it possesses 12 different parameters: 7 numerical (integer and float)\n",
        "and 5 object variables. Furthermore, the dataset contains two short type variables:\n",
        "Product_Category_2 and Product_Category_3. (this problem will be handled later)"
      ]
    },
    {
      "cell_type": "markdown",
      "metadata": {
        "id": "-YXFUBJcBaxV"
      },
      "source": [
        "## Printing information about first five customers"
      ]
    },
    {
      "cell_type": "code",
      "metadata": {
        "colab": {
          "base_uri": "https://localhost:8080/",
          "height": 226
        },
        "id": "SM48Raj7_0n7",
        "outputId": "0ab51b9b-28c8-4209-b034-3affff466d83"
      },
      "source": [
        "#(first five rows of our DataFrame)\n",
        "data.head()"
      ],
      "execution_count": 4,
      "outputs": [
        {
          "output_type": "execute_result",
          "data": {
            "text/html": [
              "<div>\n",
              "<style scoped>\n",
              "    .dataframe tbody tr th:only-of-type {\n",
              "        vertical-align: middle;\n",
              "    }\n",
              "\n",
              "    .dataframe tbody tr th {\n",
              "        vertical-align: top;\n",
              "    }\n",
              "\n",
              "    .dataframe thead th {\n",
              "        text-align: right;\n",
              "    }\n",
              "</style>\n",
              "<table border=\"1\" class=\"dataframe\">\n",
              "  <thead>\n",
              "    <tr style=\"text-align: right;\">\n",
              "      <th></th>\n",
              "      <th>User_ID</th>\n",
              "      <th>Product_ID</th>\n",
              "      <th>Gender</th>\n",
              "      <th>Age</th>\n",
              "      <th>Occupation</th>\n",
              "      <th>City_Category</th>\n",
              "      <th>Stay_In_Current_City_Years</th>\n",
              "      <th>Marital_Status</th>\n",
              "      <th>Product_Category_1</th>\n",
              "      <th>Product_Category_2</th>\n",
              "      <th>Product_Category_3</th>\n",
              "      <th>Purchase</th>\n",
              "    </tr>\n",
              "  </thead>\n",
              "  <tbody>\n",
              "    <tr>\n",
              "      <th>0</th>\n",
              "      <td>1000001</td>\n",
              "      <td>P00069042</td>\n",
              "      <td>F</td>\n",
              "      <td>0-17</td>\n",
              "      <td>10</td>\n",
              "      <td>A</td>\n",
              "      <td>2</td>\n",
              "      <td>0</td>\n",
              "      <td>3</td>\n",
              "      <td>NaN</td>\n",
              "      <td>NaN</td>\n",
              "      <td>8370</td>\n",
              "    </tr>\n",
              "    <tr>\n",
              "      <th>1</th>\n",
              "      <td>1000001</td>\n",
              "      <td>P00248942</td>\n",
              "      <td>F</td>\n",
              "      <td>0-17</td>\n",
              "      <td>10</td>\n",
              "      <td>A</td>\n",
              "      <td>2</td>\n",
              "      <td>0</td>\n",
              "      <td>1</td>\n",
              "      <td>6.0</td>\n",
              "      <td>14.0</td>\n",
              "      <td>15200</td>\n",
              "    </tr>\n",
              "    <tr>\n",
              "      <th>2</th>\n",
              "      <td>1000001</td>\n",
              "      <td>P00087842</td>\n",
              "      <td>F</td>\n",
              "      <td>0-17</td>\n",
              "      <td>10</td>\n",
              "      <td>A</td>\n",
              "      <td>2</td>\n",
              "      <td>0</td>\n",
              "      <td>12</td>\n",
              "      <td>NaN</td>\n",
              "      <td>NaN</td>\n",
              "      <td>1422</td>\n",
              "    </tr>\n",
              "    <tr>\n",
              "      <th>3</th>\n",
              "      <td>1000001</td>\n",
              "      <td>P00085442</td>\n",
              "      <td>F</td>\n",
              "      <td>0-17</td>\n",
              "      <td>10</td>\n",
              "      <td>A</td>\n",
              "      <td>2</td>\n",
              "      <td>0</td>\n",
              "      <td>12</td>\n",
              "      <td>14.0</td>\n",
              "      <td>NaN</td>\n",
              "      <td>1057</td>\n",
              "    </tr>\n",
              "    <tr>\n",
              "      <th>4</th>\n",
              "      <td>1000002</td>\n",
              "      <td>P00285442</td>\n",
              "      <td>M</td>\n",
              "      <td>55+</td>\n",
              "      <td>16</td>\n",
              "      <td>C</td>\n",
              "      <td>4+</td>\n",
              "      <td>0</td>\n",
              "      <td>8</td>\n",
              "      <td>NaN</td>\n",
              "      <td>NaN</td>\n",
              "      <td>7969</td>\n",
              "    </tr>\n",
              "  </tbody>\n",
              "</table>\n",
              "</div>"
            ],
            "text/plain": [
              "   User_ID Product_ID Gender  ... Product_Category_2  Product_Category_3 Purchase\n",
              "0  1000001  P00069042      F  ...                NaN                 NaN     8370\n",
              "1  1000001  P00248942      F  ...                6.0                14.0    15200\n",
              "2  1000001  P00087842      F  ...                NaN                 NaN     1422\n",
              "3  1000001  P00085442      F  ...               14.0                 NaN     1057\n",
              "4  1000002  P00285442      M  ...                NaN                 NaN     7969\n",
              "\n",
              "[5 rows x 12 columns]"
            ]
          },
          "metadata": {
            "tags": []
          },
          "execution_count": 4
        }
      ]
    },
    {
      "cell_type": "markdown",
      "metadata": {
        "id": "sz-xLZPqBj_z"
      },
      "source": [
        "## Answering: Is it true that female customers are highly dominant in comparison to male customers? "
      ]
    },
    {
      "cell_type": "code",
      "metadata": {
        "colab": {
          "base_uri": "https://localhost:8080/",
          "height": 355
        },
        "id": "IH916mNN_0n7",
        "outputId": "73fb94e1-a144-4a91-d404-1f1ae122a4d8"
      },
      "source": [
        "sns.countplot(data['Gender'])"
      ],
      "execution_count": 5,
      "outputs": [
        {
          "output_type": "stream",
          "text": [
            "/usr/local/lib/python3.6/dist-packages/seaborn/_decorators.py:43: FutureWarning: Pass the following variable as a keyword arg: x. From version 0.12, the only valid positional argument will be `data`, and passing other arguments without an explicit keyword will result in an error or misinterpretation.\n",
            "  FutureWarning\n"
          ],
          "name": "stderr"
        },
        {
          "output_type": "execute_result",
          "data": {
            "text/plain": [
              "<matplotlib.axes._subplots.AxesSubplot at 0x7ff0d82b3b00>"
            ]
          },
          "metadata": {
            "tags": []
          },
          "execution_count": 5
        },
        {
          "output_type": "display_data",
          "data": {
            "image/png": "[encoded data removed]",
            "text/plain": [
              "<Figure size 432x288 with 1 Axes>"
            ]
          },
          "metadata": {
            "tags": [],
            "needs_background": "light"
          }
        }
      ]
    },
    {
      "cell_type": "markdown",
      "metadata": {
        "id": "5vbUSa9wBuNJ"
      },
      "source": [
        "The graph shows that there are almost 3 times more male customers than female customers! \n",
        "Why is that? Maybe male visitors are more likely to go out and buy something for their ladies when more deals are present."
      ]
    },
    {
      "cell_type": "code",
      "metadata": {
        "colab": {
          "base_uri": "https://localhost:8080/",
          "height": 355
        },
        "id": "maWFZUNw_0n8",
        "outputId": "4513d886-3a68-40f8-800e-7580bb140ac7"
      },
      "source": [
        "# Exploring the Gender category by checking on its distribution while putting into consideration Age variable\n",
        "sns.countplot(data['Age'], hue=data['Gender'])"
      ],
      "execution_count": 6,
      "outputs": [
        {
          "output_type": "stream",
          "text": [
            "/usr/local/lib/python3.6/dist-packages/seaborn/_decorators.py:43: FutureWarning: Pass the following variable as a keyword arg: x. From version 0.12, the only valid positional argument will be `data`, and passing other arguments without an explicit keyword will result in an error or misinterpretation.\n",
            "  FutureWarning\n"
          ],
          "name": "stderr"
        },
        {
          "output_type": "execute_result",
          "data": {
            "text/plain": [
              "<matplotlib.axes._subplots.AxesSubplot at 0x7ff0d81f0908>"
            ]
          },
          "metadata": {
            "tags": []
          },
          "execution_count": 6
        },
        {
          "output_type": "display_data",
          "data": {
            "image/png": "[encoded data removed]",
            "text/plain": [
              "<Figure size 432x288 with 1 Axes>"
            ]
          },
          "metadata": {
            "tags": [],
            "needs_background": "light"
          }
        }
      ]
    },
    {
      "cell_type": "markdown",
      "metadata": {
        "id": "P5AT8UkiB4B6"
      },
      "source": [
        "From the figure above, it can be easily concluded that the highest number of customers belong to the age group\n",
        "between 26 and 35, for both genders. \n",
        "Younger and older population are far less represented on Black Friday. \n",
        "Based on these results, the retail store should sell most of the products that target people in their late twenties\n",
        "to early thirties. To increase profits, the number of products targeting people around their thirties \n",
        "can be increased while the number of products that target the older or younger population can be reduced."
      ]
    },
    {
      "cell_type": "markdown",
      "metadata": {
        "id": "sNOHNkUCCONv"
      },
      "source": [
        "## Descriptive statistics"
      ]
    },
    {
      "cell_type": "code",
      "metadata": {
        "colab": {
          "base_uri": "https://localhost:8080/",
          "height": 300
        },
        "id": "tBCNqI1j_0n9",
        "outputId": "5c8d3eaf-7b43-41b2-90fa-1c56a0f882a5"
      },
      "source": [
        "#Computing the descriptive statistics for the dataset\n",
        "data.describe()"
      ],
      "execution_count": 7,
      "outputs": [
        {
          "output_type": "execute_result",
          "data": {
            "text/html": [
              "<div>\n",
              "<style scoped>\n",
              "    .dataframe tbody tr th:only-of-type {\n",
              "        vertical-align: middle;\n",
              "    }\n",
              "\n",
              "    .dataframe tbody tr th {\n",
              "        vertical-align: top;\n",
              "    }\n",
              "\n",
              "    .dataframe thead th {\n",
              "        text-align: right;\n",
              "    }\n",
              "</style>\n",
              "<table border=\"1\" class=\"dataframe\">\n",
              "  <thead>\n",
              "    <tr style=\"text-align: right;\">\n",
              "      <th></th>\n",
              "      <th>User_ID</th>\n",
              "      <th>Occupation</th>\n",
              "      <th>Marital_Status</th>\n",
              "      <th>Product_Category_1</th>\n",
              "      <th>Product_Category_2</th>\n",
              "      <th>Product_Category_3</th>\n",
              "      <th>Purchase</th>\n",
              "    </tr>\n",
              "  </thead>\n",
              "  <tbody>\n",
              "    <tr>\n",
              "      <th>count</th>\n",
              "      <td>5.375770e+05</td>\n",
              "      <td>537577.00000</td>\n",
              "      <td>537577.000000</td>\n",
              "      <td>537577.000000</td>\n",
              "      <td>370591.000000</td>\n",
              "      <td>164278.000000</td>\n",
              "      <td>537577.000000</td>\n",
              "    </tr>\n",
              "    <tr>\n",
              "      <th>mean</th>\n",
              "      <td>1.002992e+06</td>\n",
              "      <td>8.08271</td>\n",
              "      <td>0.408797</td>\n",
              "      <td>5.295546</td>\n",
              "      <td>9.842144</td>\n",
              "      <td>12.669840</td>\n",
              "      <td>9333.859853</td>\n",
              "    </tr>\n",
              "    <tr>\n",
              "      <th>std</th>\n",
              "      <td>1.714393e+03</td>\n",
              "      <td>6.52412</td>\n",
              "      <td>0.491612</td>\n",
              "      <td>3.750701</td>\n",
              "      <td>5.087259</td>\n",
              "      <td>4.124341</td>\n",
              "      <td>4981.022133</td>\n",
              "    </tr>\n",
              "    <tr>\n",
              "      <th>min</th>\n",
              "      <td>1.000001e+06</td>\n",
              "      <td>0.00000</td>\n",
              "      <td>0.000000</td>\n",
              "      <td>1.000000</td>\n",
              "      <td>2.000000</td>\n",
              "      <td>3.000000</td>\n",
              "      <td>185.000000</td>\n",
              "    </tr>\n",
              "    <tr>\n",
              "      <th>25%</th>\n",
              "      <td>1.001495e+06</td>\n",
              "      <td>2.00000</td>\n",
              "      <td>0.000000</td>\n",
              "      <td>1.000000</td>\n",
              "      <td>5.000000</td>\n",
              "      <td>9.000000</td>\n",
              "      <td>5866.000000</td>\n",
              "    </tr>\n",
              "    <tr>\n",
              "      <th>50%</th>\n",
              "      <td>1.003031e+06</td>\n",
              "      <td>7.00000</td>\n",
              "      <td>0.000000</td>\n",
              "      <td>5.000000</td>\n",
              "      <td>9.000000</td>\n",
              "      <td>14.000000</td>\n",
              "      <td>8062.000000</td>\n",
              "    </tr>\n",
              "    <tr>\n",
              "      <th>75%</th>\n",
              "      <td>1.004417e+06</td>\n",
              "      <td>14.00000</td>\n",
              "      <td>1.000000</td>\n",
              "      <td>8.000000</td>\n",
              "      <td>15.000000</td>\n",
              "      <td>16.000000</td>\n",
              "      <td>12073.000000</td>\n",
              "    </tr>\n",
              "    <tr>\n",
              "      <th>max</th>\n",
              "      <td>1.006040e+06</td>\n",
              "      <td>20.00000</td>\n",
              "      <td>1.000000</td>\n",
              "      <td>18.000000</td>\n",
              "      <td>18.000000</td>\n",
              "      <td>18.000000</td>\n",
              "      <td>23961.000000</td>\n",
              "    </tr>\n",
              "  </tbody>\n",
              "</table>\n",
              "</div>"
            ],
            "text/plain": [
              "            User_ID    Occupation  ...  Product_Category_3       Purchase\n",
              "count  5.375770e+05  537577.00000  ...       164278.000000  537577.000000\n",
              "mean   1.002992e+06       8.08271  ...           12.669840    9333.859853\n",
              "std    1.714393e+03       6.52412  ...            4.124341    4981.022133\n",
              "min    1.000001e+06       0.00000  ...            3.000000     185.000000\n",
              "25%    1.001495e+06       2.00000  ...            9.000000    5866.000000\n",
              "50%    1.003031e+06       7.00000  ...           14.000000    8062.000000\n",
              "75%    1.004417e+06      14.00000  ...           16.000000   12073.000000\n",
              "max    1.006040e+06      20.00000  ...           18.000000   23961.000000\n",
              "\n",
              "[8 rows x 7 columns]"
            ]
          },
          "metadata": {
            "tags": []
          },
          "execution_count": 7
        }
      ]
    },
    {
      "cell_type": "code",
      "metadata": {
        "colab": {
          "base_uri": "https://localhost:8080/"
        },
        "id": "yOFrkaZM_0n9",
        "outputId": "095d05b9-a638-4054-8d99-832ca1889334"
      },
      "source": [
        "data['User_ID'].nunique()"
      ],
      "execution_count": 8,
      "outputs": [
        {
          "output_type": "execute_result",
          "data": {
            "text/plain": [
              "5891"
            ]
          },
          "metadata": {
            "tags": []
          },
          "execution_count": 8
        }
      ]
    },
    {
      "cell_type": "code",
      "metadata": {
        "colab": {
          "base_uri": "https://localhost:8080/"
        },
        "id": "6BD1KyXY_0n9",
        "outputId": "4a3fdfbe-3eff-494b-b7fa-ca4e0dbc8801"
      },
      "source": [
        "data['Product_ID'].nunique()"
      ],
      "execution_count": 9,
      "outputs": [
        {
          "output_type": "execute_result",
          "data": {
            "text/plain": [
              "3623"
            ]
          },
          "metadata": {
            "tags": []
          },
          "execution_count": 9
        }
      ]
    },
    {
      "cell_type": "markdown",
      "metadata": {
        "id": "EuRV8572CdYg"
      },
      "source": [
        "Analyzing the User_ID column using the nunique method. \n",
        "From this it can be concluded that in this specific retail store, during Black Friday, 5,891 different customers have bought something from the store. \n",
        "From Product_ID category on extraction of information, 3,623 different products are sold."
      ]
    },
    {
      "cell_type": "markdown",
      "metadata": {
        "id": "BGTKqP-OC02S"
      },
      "source": [
        "## Exploring the occupation category\n",
        "The Occupation number is the ID number of occupation type of each customer. \n",
        "creating the function which will extract all unique elements from one column (to extract all different occupations)."
      ]
    },
    {
      "cell_type": "code",
      "metadata": {
        "id": "XZRgD4sF_0n-"
      },
      "source": [
        "# using the unique function, from the numpy Python library\n",
        "def unique(column):\n",
        "    x=np.array(column)\n",
        "    print(np.unique(x))"
      ],
      "execution_count": 10,
      "outputs": []
    },
    {
      "cell_type": "code",
      "metadata": {
        "colab": {
          "base_uri": "https://localhost:8080/"
        },
        "id": "NAtwvgzx_0n-",
        "outputId": "cf714ba9-8843-42c0-867c-e00017fd410b"
      },
      "source": [
        "print (\"The unique ID numbers of customers occupations:\")\n",
        "unique(data['Occupation'])"
      ],
      "execution_count": 11,
      "outputs": [
        {
          "output_type": "stream",
          "text": [
            "The unique ID numbers of customers occupations:\n",
            "[ 0  1  2  3  4  5  6  7  8  9 10 11 12 13 14 15 16 17 18 19 20]\n"
          ],
          "name": "stdout"
        }
      ]
    },
    {
      "cell_type": "markdown",
      "metadata": {
        "id": "1pSuC9UCDCbB"
      },
      "source": [
        "## 21 different occupation ID's are registered during the shopping day.\n",
        "The Occupation number could represent different professions of customers:\n",
        "for example, number 1 could be an engineer, number 2 - a doctor number 3 an artist, etc."
      ]
    },
    {
      "cell_type": "markdown",
      "metadata": {
        "id": "05gLrfosDT4l"
      },
      "source": [
        "Finding how much money each customer group \n",
        "(grouped by occupation) spent using a for loop and sum the spent \n",
        "money for each individual ocuupation ID"
      ]
    },
    {
      "cell_type": "code",
      "metadata": {
        "id": "lVyCuOpB_0n_"
      },
      "source": [
        "occupation_id=list(range(0,12))\n",
        "spent_money=[]\n",
        "for oid in occupation_id:\n",
        "    spent_money.append(data[data['Occupation']==oid]['Purchase'].sum())"
      ],
      "execution_count": 12,
      "outputs": []
    },
    {
      "cell_type": "code",
      "metadata": {
        "colab": {
          "base_uri": "https://localhost:8080/"
        },
        "id": "c-ek2jXR_0n_",
        "outputId": "b2ab6c22-2ec4-404d-bd2d-7e0bc8f9b887"
      },
      "source": [
        "spent_money"
      ],
      "execution_count": 13,
      "outputs": [
        {
          "output_type": "execute_result",
          "data": {
            "text/plain": [
              "[625814811,\n",
              " 414552829,\n",
              " 233275393,\n",
              " 160428450,\n",
              " 657530393,\n",
              " 112525355,\n",
              " 185065697,\n",
              " 549282744,\n",
              " 14594599,\n",
              " 53619309,\n",
              " 114273954,\n",
              " 105437359]"
            ]
          },
          "metadata": {
            "tags": []
          },
          "execution_count": 13
        }
      ]
    },
    {
      "cell_type": "markdown",
      "metadata": {
        "id": "DA8olOarDeaz"
      },
      "source": [
        "## Exploring the City category variable\n",
        "This category gives us information about cities from which our customers are."
      ]
    },
    {
      "cell_type": "code",
      "metadata": {
        "colab": {
          "base_uri": "https://localhost:8080/"
        },
        "id": "b2tiKn1a_0oA",
        "outputId": "a153794f-e2ff-45e4-9ec0-5b9d8416d950"
      },
      "source": [
        "data['City_Category'].nunique()"
      ],
      "execution_count": 14,
      "outputs": [
        {
          "output_type": "execute_result",
          "data": {
            "text/plain": [
              "3"
            ]
          },
          "metadata": {
            "tags": []
          },
          "execution_count": 14
        }
      ]
    },
    {
      "cell_type": "markdown",
      "metadata": {
        "id": "MEGUaA6ADlf3"
      },
      "source": [
        " Looking at the ratio of customers from each of the three cities visually"
      ]
    },
    {
      "cell_type": "code",
      "metadata": {
        "id": "YTFboedO_0oA"
      },
      "source": [
        ""
      ],
      "execution_count": 14,
      "outputs": []
    },
    {
      "cell_type": "code",
      "metadata": {
        "collapsed": true,
        "colab": {
          "base_uri": "https://localhost:8080/",
          "height": 357
        },
        "id": "Z0Tnd7jW_0oA",
        "outputId": "a0111c82-13da-4556-9a53-6bc70442079f"
      },
      "source": [
        "explode = (0.1,0,0)\n",
        "fig1, ax1=plt.subplots(figsize=(11,6))\n",
        "ax1.pie(data['City_Category'].value_counts(),explode=explode, labels=data['City_Category'].unique(), autopct='%1.1f%%')\n",
        "plt.legend()\n",
        "plt.show()"
      ],
      "execution_count": 15,
      "outputs": [
        {
          "output_type": "display_data",
          "data": {
            "image/png": "[encoded data removed]",
            "text/plain": [
              "<Figure size 792x432 with 1 Axes>"
            ]
          },
          "metadata": {
            "tags": []
          }
        }
      ]
    },
    {
      "cell_type": "markdown",
      "metadata": {
        "id": "66k1IOB_Dv9Y"
      },
      "source": [
        " It is evident from the pie chart that all the three cities are almost equally represented in the retail store during Black Fridays. Maybe the store is somewhere between these three cities, \n",
        "is easily accessible and has good road connections from these cities."
      ]
    },
    {
      "cell_type": "markdown",
      "metadata": {
        "id": "iKYd4KTKD4zB"
      },
      "source": [
        "# Data Preprocessing for ML Algorithms\n",
        "The task of the learning algorithms will be to predict the value of the Purchase variable, given customer information as input.\n",
        "The first thing that need to be don is deal with missing data in columns Product_Category_2 and Product_Category_3.\n",
        "Only 30% of data inside Product_Category_3 and 69% of data inside Product_Category_2. \n",
        "30% of real data is a small ratio, filling missing values inside this category with the mean of the existing values, but that means that 70% of data will be artificial, which could ruin a future machine learning model. \n",
        "The best alternative for this problem is to drop this column from further analysis. \n",
        "We will use drop function to do that:"
      ]
    },
    {
      "cell_type": "code",
      "metadata": {
        "id": "A7xxbd22_0oB"
      },
      "source": [
        "data=data.drop(['Product_Category_3'], axis=1)"
      ],
      "execution_count": 16,
      "outputs": []
    },
    {
      "cell_type": "markdown",
      "metadata": {
        "id": "q7E7SJ76EnEK"
      },
      "source": [
        "The column Product_Category_2 posses around 30% of missing data. Here it makes sense to fill missing values and use \n",
        "this column for fitting a machine learning model. This problem will be solved by inserting a mean value of the existing values in this column to the missing fields"
      ]
    },
    {
      "cell_type": "code",
      "metadata": {
        "id": "RMMsNk4K_0oB"
      },
      "source": [
        "data['Product_Category_2'].fillna((data['Product_Category_2'].mean()), inplace=True)"
      ],
      "execution_count": 17,
      "outputs": []
    },
    {
      "cell_type": "markdown",
      "metadata": {
        "id": "nHeV8UWDE8SK"
      },
      "source": [
        "Checking the data frame once more"
      ]
    },
    {
      "cell_type": "code",
      "metadata": {
        "colab": {
          "base_uri": "https://localhost:8080/"
        },
        "id": "2V_cpJGQ_0oB",
        "outputId": "291e0391-d2c5-47e6-93d2-b6132eaf5429"
      },
      "source": [
        "data.info()"
      ],
      "execution_count": 18,
      "outputs": [
        {
          "output_type": "stream",
          "text": [
            "<class 'pandas.core.frame.DataFrame'>\n",
            "RangeIndex: 537577 entries, 0 to 537576\n",
            "Data columns (total 11 columns):\n",
            " #   Column                      Non-Null Count   Dtype  \n",
            "---  ------                      --------------   -----  \n",
            " 0   User_ID                     537577 non-null  int64  \n",
            " 1   Product_ID                  537577 non-null  object \n",
            " 2   Gender                      537577 non-null  object \n",
            " 3   Age                         537577 non-null  object \n",
            " 4   Occupation                  537577 non-null  int64  \n",
            " 5   City_Category               537577 non-null  object \n",
            " 6   Stay_In_Current_City_Years  537577 non-null  object \n",
            " 7   Marital_Status              537577 non-null  int64  \n",
            " 8   Product_Category_1          537577 non-null  int64  \n",
            " 9   Product_Category_2          537577 non-null  float64\n",
            " 10  Purchase                    537577 non-null  int64  \n",
            "dtypes: float64(1), int64(5), object(5)\n",
            "memory usage: 45.1+ MB\n"
          ],
          "name": "stdout"
        }
      ]
    },
    {
      "cell_type": "markdown",
      "metadata": {
        "id": "r8UyiWHLFA2G"
      },
      "source": [
        "## Removing columns or variables that are not useful in the prediction model.\n",
        "User_ID is is the number assigned automatically to each customer, and it is not useful for prediction purposes.\n",
        "The Product_ID column contains information about the product purchased. It is not a feature of the customer. Therefore, it will be dropped too."
      ]
    },
    {
      "cell_type": "code",
      "metadata": {
        "collapsed": true,
        "id": "aeExzQj4_0oB"
      },
      "source": [
        "data=data.drop(['User_ID','Product_ID'], axis=1)"
      ],
      "execution_count": 19,
      "outputs": []
    },
    {
      "cell_type": "code",
      "metadata": {
        "colab": {
          "base_uri": "https://localhost:8080/"
        },
        "id": "r9OESGJc_0oC",
        "outputId": "2b091d54-7e06-492e-a6d7-c2b45c49a0a3"
      },
      "source": [
        "data.info()"
      ],
      "execution_count": 20,
      "outputs": [
        {
          "output_type": "stream",
          "text": [
            "<class 'pandas.core.frame.DataFrame'>\n",
            "RangeIndex: 537577 entries, 0 to 537576\n",
            "Data columns (total 9 columns):\n",
            " #   Column                      Non-Null Count   Dtype  \n",
            "---  ------                      --------------   -----  \n",
            " 0   Gender                      537577 non-null  object \n",
            " 1   Age                         537577 non-null  object \n",
            " 2   Occupation                  537577 non-null  int64  \n",
            " 3   City_Category               537577 non-null  object \n",
            " 4   Stay_In_Current_City_Years  537577 non-null  object \n",
            " 5   Marital_Status              537577 non-null  int64  \n",
            " 6   Product_Category_1          537577 non-null  int64  \n",
            " 7   Product_Category_2          537577 non-null  float64\n",
            " 8   Purchase                    537577 non-null  int64  \n",
            "dtypes: float64(1), int64(4), object(4)\n",
            "memory usage: 36.9+ MB\n"
          ],
          "name": "stdout"
        }
      ]
    },
    {
      "cell_type": "markdown",
      "metadata": {
        "id": "CBA5s9-aFRO7"
      },
      "source": [
        "The variable to be predicted is Purchase. The other columns will be used as predictor variables."
      ]
    },
    {
      "cell_type": "code",
      "metadata": {
        "id": "knCQIK5o_0oC"
      },
      "source": [
        "#converting the four categorical variables into numerical using get_dummies function"
      ],
      "execution_count": 21,
      "outputs": []
    },
    {
      "cell_type": "code",
      "metadata": {
        "id": "oWIoBzHo_0oC"
      },
      "source": [
        "df_gender=pd.get_dummies(data['Gender'])\n",
        "df_age=pd.get_dummies(data['Age'])\n",
        "df_City_Category=pd.get_dummies(data['City_Category'])\n",
        "df_Stay_In_Current_City_Years=pd.get_dummies(data['Stay_In_Current_City_Years'])"
      ],
      "execution_count": 22,
      "outputs": []
    },
    {
      "cell_type": "code",
      "metadata": {
        "id": "eMUUQXPj_0oC"
      },
      "source": [
        "data_final=pd.concat([data, df_gender, df_age,df_City_Category,\n",
        "                     df_Stay_In_Current_City_Years],axis=1)"
      ],
      "execution_count": 23,
      "outputs": []
    },
    {
      "cell_type": "code",
      "metadata": {
        "colab": {
          "base_uri": "https://localhost:8080/",
          "height": 226
        },
        "id": "0kVBkmQP_0oC",
        "outputId": "70632f00-6578-4e64-a21b-6808ee493411"
      },
      "source": [
        "data_final.head()"
      ],
      "execution_count": 24,
      "outputs": [
        {
          "output_type": "execute_result",
          "data": {
            "text/html": [
              "<div>\n",
              "<style scoped>\n",
              "    .dataframe tbody tr th:only-of-type {\n",
              "        vertical-align: middle;\n",
              "    }\n",
              "\n",
              "    .dataframe tbody tr th {\n",
              "        vertical-align: top;\n",
              "    }\n",
              "\n",
              "    .dataframe thead th {\n",
              "        text-align: right;\n",
              "    }\n",
              "</style>\n",
              "<table border=\"1\" class=\"dataframe\">\n",
              "  <thead>\n",
              "    <tr style=\"text-align: right;\">\n",
              "      <th></th>\n",
              "      <th>Gender</th>\n",
              "      <th>Age</th>\n",
              "      <th>Occupation</th>\n",
              "      <th>City_Category</th>\n",
              "      <th>Stay_In_Current_City_Years</th>\n",
              "      <th>Marital_Status</th>\n",
              "      <th>Product_Category_1</th>\n",
              "      <th>Product_Category_2</th>\n",
              "      <th>Purchase</th>\n",
              "      <th>F</th>\n",
              "      <th>M</th>\n",
              "      <th>0-17</th>\n",
              "      <th>18-25</th>\n",
              "      <th>26-35</th>\n",
              "      <th>36-45</th>\n",
              "      <th>46-50</th>\n",
              "      <th>51-55</th>\n",
              "      <th>55+</th>\n",
              "      <th>A</th>\n",
              "      <th>B</th>\n",
              "      <th>C</th>\n",
              "      <th>0</th>\n",
              "      <th>1</th>\n",
              "      <th>2</th>\n",
              "      <th>3</th>\n",
              "      <th>4+</th>\n",
              "    </tr>\n",
              "  </thead>\n",
              "  <tbody>\n",
              "    <tr>\n",
              "      <th>0</th>\n",
              "      <td>F</td>\n",
              "      <td>0-17</td>\n",
              "      <td>10</td>\n",
              "      <td>A</td>\n",
              "      <td>2</td>\n",
              "      <td>0</td>\n",
              "      <td>3</td>\n",
              "      <td>9.842144</td>\n",
              "      <td>8370</td>\n",
              "      <td>1</td>\n",
              "      <td>0</td>\n",
              "      <td>1</td>\n",
              "      <td>0</td>\n",
              "      <td>0</td>\n",
              "      <td>0</td>\n",
              "      <td>0</td>\n",
              "      <td>0</td>\n",
              "      <td>0</td>\n",
              "      <td>1</td>\n",
              "      <td>0</td>\n",
              "      <td>0</td>\n",
              "      <td>0</td>\n",
              "      <td>0</td>\n",
              "      <td>1</td>\n",
              "      <td>0</td>\n",
              "      <td>0</td>\n",
              "    </tr>\n",
              "    <tr>\n",
              "      <th>1</th>\n",
              "      <td>F</td>\n",
              "      <td>0-17</td>\n",
              "      <td>10</td>\n",
              "      <td>A</td>\n",
              "      <td>2</td>\n",
              "      <td>0</td>\n",
              "      <td>1</td>\n",
              "      <td>6.000000</td>\n",
              "      <td>15200</td>\n",
              "      <td>1</td>\n",
              "      <td>0</td>\n",
              "      <td>1</td>\n",
              "      <td>0</td>\n",
              "      <td>0</td>\n",
              "      <td>0</td>\n",
              "      <td>0</td>\n",
              "      <td>0</td>\n",
              "      <td>0</td>\n",
              "      <td>1</td>\n",
              "      <td>0</td>\n",
              "      <td>0</td>\n",
              "      <td>0</td>\n",
              "      <td>0</td>\n",
              "      <td>1</td>\n",
              "      <td>0</td>\n",
              "      <td>0</td>\n",
              "    </tr>\n",
              "    <tr>\n",
              "      <th>2</th>\n",
              "      <td>F</td>\n",
              "      <td>0-17</td>\n",
              "      <td>10</td>\n",
              "      <td>A</td>\n",
              "      <td>2</td>\n",
              "      <td>0</td>\n",
              "      <td>12</td>\n",
              "      <td>9.842144</td>\n",
              "      <td>1422</td>\n",
              "      <td>1</td>\n",
              "      <td>0</td>\n",
              "      <td>1</td>\n",
              "      <td>0</td>\n",
              "      <td>0</td>\n",
              "      <td>0</td>\n",
              "      <td>0</td>\n",
              "      <td>0</td>\n",
              "      <td>0</td>\n",
              "      <td>1</td>\n",
              "      <td>0</td>\n",
              "      <td>0</td>\n",
              "      <td>0</td>\n",
              "      <td>0</td>\n",
              "      <td>1</td>\n",
              "      <td>0</td>\n",
              "      <td>0</td>\n",
              "    </tr>\n",
              "    <tr>\n",
              "      <th>3</th>\n",
              "      <td>F</td>\n",
              "      <td>0-17</td>\n",
              "      <td>10</td>\n",
              "      <td>A</td>\n",
              "      <td>2</td>\n",
              "      <td>0</td>\n",
              "      <td>12</td>\n",
              "      <td>14.000000</td>\n",
              "      <td>1057</td>\n",
              "      <td>1</td>\n",
              "      <td>0</td>\n",
              "      <td>1</td>\n",
              "      <td>0</td>\n",
              "      <td>0</td>\n",
              "      <td>0</td>\n",
              "      <td>0</td>\n",
              "      <td>0</td>\n",
              "      <td>0</td>\n",
              "      <td>1</td>\n",
              "      <td>0</td>\n",
              "      <td>0</td>\n",
              "      <td>0</td>\n",
              "      <td>0</td>\n",
              "      <td>1</td>\n",
              "      <td>0</td>\n",
              "      <td>0</td>\n",
              "    </tr>\n",
              "    <tr>\n",
              "      <th>4</th>\n",
              "      <td>M</td>\n",
              "      <td>55+</td>\n",
              "      <td>16</td>\n",
              "      <td>C</td>\n",
              "      <td>4+</td>\n",
              "      <td>0</td>\n",
              "      <td>8</td>\n",
              "      <td>9.842144</td>\n",
              "      <td>7969</td>\n",
              "      <td>0</td>\n",
              "      <td>1</td>\n",
              "      <td>0</td>\n",
              "      <td>0</td>\n",
              "      <td>0</td>\n",
              "      <td>0</td>\n",
              "      <td>0</td>\n",
              "      <td>0</td>\n",
              "      <td>1</td>\n",
              "      <td>0</td>\n",
              "      <td>0</td>\n",
              "      <td>1</td>\n",
              "      <td>0</td>\n",
              "      <td>0</td>\n",
              "      <td>0</td>\n",
              "      <td>0</td>\n",
              "      <td>1</td>\n",
              "    </tr>\n",
              "  </tbody>\n",
              "</table>\n",
              "</div>"
            ],
            "text/plain": [
              "  Gender   Age  Occupation City_Category  ...  1  2  3  4+\n",
              "0      F  0-17          10             A  ...  0  1  0   0\n",
              "1      F  0-17          10             A  ...  0  1  0   0\n",
              "2      F  0-17          10             A  ...  0  1  0   0\n",
              "3      F  0-17          10             A  ...  0  1  0   0\n",
              "4      M   55+          16             C  ...  0  0  0   1\n",
              "\n",
              "[5 rows x 26 columns]"
            ]
          },
          "metadata": {
            "tags": []
          },
          "execution_count": 24
        }
      ]
    },
    {
      "cell_type": "markdown",
      "metadata": {
        "id": "EAMOoHGRFrZs"
      },
      "source": [
        "The newly created dummy columns are presented. All categorical variables are transformed into numerical. \n",
        "So, if a customer is between 0 and 17 years old (for example), only that column value will be equal to 1, other, other age group columns will have a value of 0. Similarly, if it is a male customer, the column named 'M' will be equal to 1 and column 'F' will be 0"
      ]
    },
    {
      "cell_type": "markdown",
      "metadata": {
        "id": "l1g1vXlIF2wf"
      },
      "source": [
        "The above can be used to train the machine learning model"
      ]
    },
    {
      "cell_type": "markdown",
      "metadata": {
        "id": "fqPKbrqUFel_"
      },
      "source": [
        "## Predicting the Amount Spent by the customer on Black Friday using linear regression"
      ]
    },
    {
      "cell_type": "code",
      "metadata": {
        "id": "xT3WfTrb_0oD"
      },
      "source": [
        "x=data_final[['Occupation','Marital_Status','Product_Category_2','F','M', '0-17', '18-25', '26-35', '36-45', '46-50', '51-55', '55+', 'A', 'B', 'C', '0', '1', '2', '3', '4+']]\n",
        "y=data_final['Purchase']"
      ],
      "execution_count": 25,
      "outputs": []
    },
    {
      "cell_type": "markdown",
      "metadata": {
        "id": "Ogd0-JdCF9rl"
      },
      "source": [
        "Spliting the final dataset into a training and testing sets using train_test_split function\n",
        "Training data is used for learning, adjusting parameters of a model and minimizing an error on the output.\n",
        "The rest of the data (the Test set) is used to evaluate performances\n",
        "the datset will be split into 75% training set and 25% test set"
      ]
    },
    {
      "cell_type": "code",
      "metadata": {
        "id": "vYXFlZcO_0oD"
      },
      "source": [
        "x_train, x_test, y_train, y_test=train_test_split(x,y,test_size=0.25)"
      ],
      "execution_count": 26,
      "outputs": []
    },
    {
      "cell_type": "markdown",
      "metadata": {
        "id": "aUKFCm-YGIoC"
      },
      "source": [
        "Importing the linear regression and training it using the training data set"
      ]
    },
    {
      "cell_type": "code",
      "metadata": {
        "collapsed": true,
        "colab": {
          "base_uri": "https://localhost:8080/"
        },
        "id": "H8JVqJ37_0oD",
        "outputId": "cf17f695-f8fa-4213-a1d8-5fd34c55afc6"
      },
      "source": [
        "lm=LinearRegression()\n",
        "lm.fit(x_train,y_train)"
      ],
      "execution_count": 27,
      "outputs": [
        {
          "output_type": "execute_result",
          "data": {
            "text/plain": [
              "LinearRegression(copy_X=True, fit_intercept=True, n_jobs=None, normalize=False)"
            ]
          },
          "metadata": {
            "tags": []
          },
          "execution_count": 27
        }
      ]
    },
    {
      "cell_type": "code",
      "metadata": {
        "colab": {
          "base_uri": "https://localhost:8080/"
        },
        "id": "LsH4QP5f_0oE",
        "outputId": "f815fbb8-e835-4eb3-e707-2cf8b01a1f20"
      },
      "source": [
        "print(lm.fit(x_train,y_train))"
      ],
      "execution_count": 28,
      "outputs": [
        {
          "output_type": "stream",
          "text": [
            "LinearRegression(copy_X=True, fit_intercept=True, n_jobs=None, normalize=False)\n"
          ],
          "name": "stdout"
        }
      ]
    },
    {
      "cell_type": "markdown",
      "metadata": {
        "id": "2Nsh49diGOZg"
      },
      "source": [
        "The model is now trained. "
      ]
    },
    {
      "cell_type": "code",
      "metadata": {
        "colab": {
          "base_uri": "https://localhost:8080/"
        },
        "id": "dkq4QbOr_0oE",
        "outputId": "73da8312-3469-40ec-befe-235cdc6eaef6"
      },
      "source": [
        "# printing the intercept parameter value and values of coefficients of the model\n",
        "print('Intercept parameter:',lm.intercept_)\n",
        "coeff_df=pd.DataFrame(lm.coef_,x.columns,columns=['Coefficient'])\n",
        "print(coeff_df)"
      ],
      "execution_count": 29,
      "outputs": [
        {
          "output_type": "stream",
          "text": [
            "Intercept parameter: 11184.870611701695\n",
            "                    Coefficient\n",
            "Occupation             8.836383\n",
            "Marital_Status       -74.348650\n",
            "Product_Category_2  -213.122414\n",
            "F                   -322.241323\n",
            "M                    322.241323\n",
            "0-17                -510.293325\n",
            "18-25                -94.766779\n",
            "26-35                 65.423254\n",
            "36-45                 84.176637\n",
            "46-50                 36.306242\n",
            "51-55                359.532757\n",
            "55+                   59.621215\n",
            "A                   -361.339207\n",
            "B                   -141.183201\n",
            "C                    502.522408\n",
            "0                    -57.811937\n",
            "1                      3.841706\n",
            "2                     56.604185\n",
            "3                     12.982780\n",
            "4+                   -15.616734\n"
          ],
          "name": "stdout"
        }
      ]
    },
    {
      "cell_type": "markdown",
      "metadata": {
        "id": "bXBLTZ0dGcOq"
      },
      "source": [
        "### Using the test data as inputs of the model to see how well our model performs."
      ]
    },
    {
      "cell_type": "code",
      "metadata": {
        "colab": {
          "base_uri": "https://localhost:8080/"
        },
        "id": "Y8npKIiq_0oE",
        "outputId": "953dd5b0-ba8a-4355-cdfd-8ad12213302b"
      },
      "source": [
        "predictions=lm.predict(x_test)\n",
        "print(\"Predicted purchases (in USD) for new customers:\", predictions)"
      ],
      "execution_count": 30,
      "outputs": [
        {
          "output_type": "stream",
          "text": [
            "Predicted purchases (in USD) for new customers: [ 8383.37688765  8240.46496674 11728.52434227 ...  8361.36179407\n",
            " 10032.55043509  7849.39349557]\n"
          ],
          "name": "stdout"
        }
      ]
    },
    {
      "cell_type": "markdown",
      "metadata": {
        "id": "lkvExNPMGk0e"
      },
      "source": [
        "## Performance Estimation of the Machine Learning model using mean absolute error(MAE) and mean squared error(MSE)"
      ]
    },
    {
      "cell_type": "code",
      "metadata": {
        "colab": {
          "base_uri": "https://localhost:8080/"
        },
        "id": "CPli-sWA_0oE",
        "outputId": "e9afd034-2613-4d8f-93dd-3a44fd4d30c2"
      },
      "source": [
        "print('MAE:', metrics.mean_absolute_error(y_test, predictions))\n",
        "print('MSE:', metrics.mean_squared_error(y_test, predictions))"
      ],
      "execution_count": 31,
      "outputs": [
        {
          "output_type": "stream",
          "text": [
            "MAE: 3867.815925496528\n",
            "MSE: 23780887.771736268\n"
          ],
          "name": "stdout"
        }
      ]
    }
  ]
}